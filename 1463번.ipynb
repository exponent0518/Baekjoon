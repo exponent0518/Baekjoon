{
 "cells": [
  {
   "cell_type": "code",
   "execution_count": null,
   "id": "5e7e418b",
   "metadata": {},
   "outputs": [],
   "source": [
    "# 1463번\n",
    "n=int(input())\n",
    "lst = [0] * (n+1)\n",
    "\n",
    "for i in range(2,n+1):\n",
    "    lst[i] = lst[i-1] + 1\n",
    "    if i % 3 == 0:\n",
    "        lst[i] = min(lst[i], lst[i//3] + 1)\n",
    "    if i % 2 == 0:\n",
    "        lst[i] = min(lst[i], lst[i//2] + 1)\n",
    "print(lst[n])"
   ]
  }
 ],
 "metadata": {
  "kernelspec": {
   "display_name": "Python 3",
   "language": "python",
   "name": "python3"
  },
  "language_info": {
   "codemirror_mode": {
    "name": "ipython",
    "version": 3
   },
   "file_extension": ".py",
   "mimetype": "text/x-python",
   "name": "python",
   "nbconvert_exporter": "python",
   "pygments_lexer": "ipython3",
   "version": "3.8.8"
  },
  "varInspector": {
   "cols": {
    "lenName": 16,
    "lenType": 16,
    "lenVar": 40
   },
   "kernels_config": {
    "python": {
     "delete_cmd_postfix": "",
     "delete_cmd_prefix": "del ",
     "library": "var_list.py",
     "varRefreshCmd": "print(var_dic_list())"
    },
    "r": {
     "delete_cmd_postfix": ") ",
     "delete_cmd_prefix": "rm(",
     "library": "var_list.r",
     "varRefreshCmd": "cat(var_dic_list()) "
    }
   },
   "types_to_exclude": [
    "module",
    "function",
    "builtin_function_or_method",
    "instance",
    "_Feature"
   ],
   "window_display": false
  }
 },
 "nbformat": 4,
 "nbformat_minor": 5
}
